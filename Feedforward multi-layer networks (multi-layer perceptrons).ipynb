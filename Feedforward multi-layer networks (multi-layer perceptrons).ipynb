{
 "cells": [
  {
   "cell_type": "markdown",
   "metadata": {},
   "source": [
    "# Task 1"
   ]
  },
  {
   "cell_type": "markdown",
   "metadata": {},
   "source": [
    "## Feedforward multi-layer networks (multi-layer perceptrons)"
   ]
  },
  {
   "cell_type": "markdown",
   "metadata": {},
   "source": [
    "### Importing API and libs"
   ]
  },
  {
   "cell_type": "code",
   "execution_count": 1,
   "metadata": {},
   "outputs": [
    {
     "name": "stdout",
     "output_type": "stream",
     "text": [
      "Keras in standby...\n"
     ]
    }
   ],
   "source": [
    "import pandas as pd\n",
    "import numpy as np\n",
    "import matplotlib.pyplot as plt\n",
    "import matplotlib.image as im\n",
    "from sklearn.model_selection import train_test_split\n",
    "from sklearn.metrics import confusion_matrix\n",
    "from sklearn import preprocessing\n",
    "from tensorflow import keras\n",
    "import seaborn as sns\n",
    "from collections import Counter\n",
    "from pathlib import Path\n",
    "print(\"Keras in standby...\")"
   ]
  },
  {
   "cell_type": "markdown",
   "metadata": {},
   "source": [
    "### Reading data:\n",
    "#### Be mindfull that read_csv reads data depending on where the procject is opened."
   ]
  },
  {
   "cell_type": "code",
   "execution_count": 7,
   "metadata": {},
   "outputs": [],
   "source": []
  },
  {
   "cell_type": "code",
   "execution_count": 14,
   "metadata": {},
   "outputs": [],
   "source": [
    "from pathlib import Path\n"
   ]
  },
  {
   "cell_type": "code",
   "execution_count": 18,
   "metadata": {},
   "outputs": [
    {
     "name": "stdout",
     "output_type": "stream",
     "text": [
      "Loading data...\n",
      "Data loaded!\n",
      "Glass database shape:  (214, 10)\n",
      "Glass database head:          1      2     3     4      5     6     7    8    9   10\n",
      "0                                                             \n",
      "1  1.52101  13.64  4.49  1.10  71.78  0.06  8.75  0.0  0.0   1\n",
      "2  1.51761  13.89  3.60  1.36  72.73  0.48  7.83  0.0  0.0   1\n",
      "3  1.51618  13.53  3.55  1.54  72.99  0.39  7.78  0.0  0.0   1\n",
      "4  1.51766  13.21  3.69  1.29  72.61  0.57  8.22  0.0  0.0   1\n",
      "5  1.51742  13.27  3.62  1.24  73.08  0.55  8.07  0.0  0.0   1\n"
     ]
    }
   ],
   "source": [
    "# print(Path.home().absolute())\n",
    "# print(os.path.join((os.path.abspath(\"\")), \"Databases/Glass/glass.data\"))\n",
    "pathToFile = Path.cwd().joinpath(\"Databases/Glass/glass.data\")\n",
    "print(\"Loading data...\")\n",
    "glassDatabase = pd.read_csv(pathToFile,delim_whitespace=False, header=None, index_col= 0)\n",
    "\n",
    "print(\"Data loaded!\")\n",
    "print(\"Glass database shape: \", glassDatabase.shape)\n",
    "print(\"Glass database head:\\n\", glassDatabase.head())\n",
    "attrNames = [\"RI\",\n",
    "            \"NA2O\",\n",
    "            \"MGO\",\n",
    "            \"AL2O3\",\n",
    "            \"SIO2\",\n",
    "            \"K2O\",\n",
    "            \"CAO\",\n",
    "            \"BAO\",\n",
    "            \"FE2O3\",\n",
    "            \"Class\",\n",
    "            ]\n"
   ]
  },
  {
   "cell_type": "code",
   "execution_count": null,
   "metadata": {},
   "outputs": [],
   "source": [
    "\n",
    "# glassDatabase.reset_index(drop=True, inplace=True)\n",
    "glassDatabase.columns = attrNames\n",
    "# print((glassDatabase))\n",
    "# labels = glassDatabase.iloc[:,-1]\n",
    "labels = glassDatabase[\"Class\"]\n",
    "# labels_NORMAL = labels.min()/(labels.max() - labels.min())\n",
    "glassDatabase_Attributes = glassDatabase.iloc[:,0:-1]\n",
    "labelsHotOne= keras.utils.to_categorical(labels)\n",
    "labelsHotOne = pd.DataFrame(data = labelsHotOne)\n",
    "labelsHotOne = labelsHotOne.iloc[:,1:]\n",
    "# xTrain, xTest, yTrain, yTest = train_test_split(glassDatabase_Attributes, labels, test_size=0.7, train_size=0.3, shuffle=True)\n",
    "\n",
    "xTrain, xTest, yTrain, yTest = train_test_split(glassDatabase_Attributes, labelsHotOne, test_size=0.7, train_size=0.3, shuffle=True)\n"
   ]
  },
  {
   "cell_type": "markdown",
   "metadata": {},
   "source": [
    "### Checking the data (Classes, how many objects of a class)"
   ]
  },
  {
   "cell_type": "code",
   "execution_count": 3,
   "metadata": {},
   "outputs": [
    {
     "name": "stdout",
     "output_type": "stream",
     "text": [
      "Counter yTrain_> Counter({1: 26, 0: 18, 6: 7, 2: 6, 4: 4, 5: 3})\n",
      "Countery Test_> Counter({0: 52, 1: 50, 6: 22, 2: 11, 4: 9, 5: 6})\n"
     ]
    },
    {
     "data": {
      "text/plain": [
       "[]"
      ]
     },
     "execution_count": 3,
     "metadata": {},
     "output_type": "execute_result"
    },
    {
     "data": {
      "image/png": "[encoded data removed]",
      "text/plain": [
       "<Figure size 432x288 with 1 Axes>"
      ]
     },
     "metadata": {
      "needs_background": "light"
     },
     "output_type": "display_data"
    }
   ],
   "source": [
    "\n",
    "print(\"Counter yTrain_>\",Counter(np.argmax(yTrain.values, axis=-1)))\n",
    "countYTrain = Counter(np.argmax(yTrain.values, axis=-1))\n",
    "print(\"Countery Test_>\",Counter(np.argmax(yTest.values, axis=-1)))\n",
    "countYTest = Counter(np.argmax(yTest.values, axis=-1))\n",
    "# previewFrameYTrain = pd.DataFrame.from_dict(Counter(np.argmax(yTrain.values, axis=-1)), orient='index')\n",
    "# previewFrameYTest = pd.DataFrame.from_dict(Counter(np.argmax(yTest.values, axis=-1)), orient='index')\n",
    "# sns.countplot(x =previewFrameYTrain[0] , data = previewFrameYTrain, order=previewFrameYTrain[0].value_counts().index)\n",
    "plt.bar(countYTrain.keys(),countYTrain.values(), color='g')\n",
    "plt.plot()\n",
    "\n",
    "# sns.barplot(x=, y=, data=previewFrameYTrain)\n",
    "# sns.barplot(x=\"Class\", y=\"Class\", data=previewFrameYTest)"
   ]
  },
  {
   "cell_type": "code",
   "execution_count": 4,
   "metadata": {},
   "outputs": [
    {
     "data": {
      "text/plain": [
       "[]"
      ]
     },
     "execution_count": 4,
     "metadata": {},
     "output_type": "execute_result"
    },
    {
     "data": {
      "image/png": "[encoded data removed]",
      "text/plain": [
       "<Figure size 432x288 with 1 Axes>"
      ]
     },
     "metadata": {
      "needs_background": "light"
     },
     "output_type": "display_data"
    }
   ],
   "source": [
    "plt.bar(countYTest.keys(),countYTest.values(), color='g')\n",
    "plt.plot()"
   ]
  },
  {
   "cell_type": "markdown",
   "metadata": {},
   "source": [
    "### Normalization"
   ]
  },
  {
   "cell_type": "code",
   "execution_count": 5,
   "metadata": {},
   "outputs": [],
   "source": [
    "scaler= preprocessing.StandardScaler().fit(xTrain)\n",
    "xTrain_std = scaler.transform(xTrain)\n",
    "xTest_std = scaler.transform(xTest)"
   ]
  },
  {
   "cell_type": "markdown",
   "metadata": {},
   "source": [
    "### Creating a model"
   ]
  },
  {
   "cell_type": "code",
   "execution_count": 6,
   "metadata": {},
   "outputs": [],
   "source": [
    "model = keras.Sequential()\n",
    "# model.add(keras.layers.Dense(10, activation=\"sigmoid\", input_dim = glassDatabase.shape[1]-1))\n",
    "model.add(keras.layers.Dense(20, activation=\"relu\"))\n",
    "# model.add(keras.layers.Dense(10, activation=\"relu\"))\n",
    "model.add(keras.layers.Dense(7, activation=\"relu\"))\n",
    "model.add(keras.layers.Dense(14, activation=\"relu\"))\n",
    "# model.add(keras.layers.Dense(3, activation=\"relu\"))\n",
    "# model.add(keras.layers.Dense(7, activation=\"relu\"))\n",
    "model.add(keras.layers.Dense(7, activation=\"softmax\"))\n",
    "# model.add(keras.layers.Dense(1, activation=\"softmax\"))\n",
    "# model.add(keras.layers.Dense(1, activation='linear'))\n",
    "# opt = keras.optimizers.Adam(learning_rate=0.001, decay=1e-6)\n",
    "opt = keras.optimizers.Adam(learning_rate=0.005, decay=1e-6)\n",
    "es = keras.callbacks.EarlyStopping(patience=10,restore_best_weights=True)\n",
    "\n",
    "model.compile(optimizer=opt, loss='categorical_crossentropy', metrics=[\"accuracy\"])\n",
    "np.random.seed(1)"
   ]
  },
  {
   "cell_type": "markdown",
   "metadata": {},
   "source": [
    "### Training the network"
   ]
  },
  {
   "cell_type": "code",
   "execution_count": 7,
   "metadata": {},
   "outputs": [
    {
     "name": "stdout",
     "output_type": "stream",
     "text": [
      "Epoch 1/100\n",
      "6/6 [==============================] - 1s 37ms/step - loss: 1.9513 - accuracy: 0.1373 - val_loss: 1.9670 - val_accuracy: 0.1538\n",
      "Epoch 2/100\n",
      "6/6 [==============================] - 0s 7ms/step - loss: 1.8145 - accuracy: 0.4118 - val_loss: 1.8792 - val_accuracy: 0.2308\n",
      "Epoch 3/100\n",
      "6/6 [==============================] - 0s 8ms/step - loss: 1.7127 - accuracy: 0.4510 - val_loss: 1.7728 - val_accuracy: 0.1538\n",
      "Epoch 4/100\n",
      "6/6 [==============================] - 0s 7ms/step - loss: 1.6133 - accuracy: 0.4706 - val_loss: 1.6698 - val_accuracy: 0.1538\n",
      "Epoch 5/100\n",
      "6/6 [==============================] - 0s 7ms/step - loss: 1.5077 - accuracy: 0.4706 - val_loss: 1.5618 - val_accuracy: 0.2308\n",
      "Epoch 6/100\n",
      "6/6 [==============================] - 0s 7ms/step - loss: 1.4008 - accuracy: 0.4902 - val_loss: 1.4420 - val_accuracy: 0.3077\n",
      "Epoch 7/100\n",
      "6/6 [==============================] - 0s 8ms/step - loss: 1.2980 - accuracy: 0.5294 - val_loss: 1.3080 - val_accuracy: 0.3846\n",
      "Epoch 8/100\n",
      "6/6 [==============================] - 0s 7ms/step - loss: 1.1931 - accuracy: 0.5294 - val_loss: 1.1785 - val_accuracy: 0.4615\n",
      "Epoch 9/100\n",
      "6/6 [==============================] - 0s 7ms/step - loss: 1.1016 - accuracy: 0.5490 - val_loss: 1.0620 - val_accuracy: 0.4615\n",
      "Epoch 10/100\n",
      "6/6 [==============================] - 0s 8ms/step - loss: 1.0398 - accuracy: 0.5686 - val_loss: 0.9923 - val_accuracy: 0.6154\n",
      "Epoch 11/100\n",
      "6/6 [==============================] - 0s 9ms/step - loss: 0.9907 - accuracy: 0.6078 - val_loss: 0.9109 - val_accuracy: 0.8462\n",
      "Epoch 12/100\n",
      "6/6 [==============================] - 0s 9ms/step - loss: 0.9629 - accuracy: 0.5882 - val_loss: 0.8439 - val_accuracy: 0.9231\n",
      "Epoch 13/100\n",
      "6/6 [==============================] - 0s 8ms/step - loss: 0.9282 - accuracy: 0.5686 - val_loss: 0.8526 - val_accuracy: 0.8462\n",
      "Epoch 14/100\n",
      "6/6 [==============================] - 0s 9ms/step - loss: 0.8883 - accuracy: 0.6078 - val_loss: 0.8635 - val_accuracy: 0.6923\n",
      "Epoch 15/100\n",
      "6/6 [==============================] - 0s 8ms/step - loss: 0.8612 - accuracy: 0.6078 - val_loss: 0.8605 - val_accuracy: 0.7692\n",
      "Epoch 16/100\n",
      "6/6 [==============================] - 0s 7ms/step - loss: 0.8423 - accuracy: 0.5882 - val_loss: 0.8402 - val_accuracy: 0.8462\n",
      "Epoch 17/100\n",
      "6/6 [==============================] - 0s 8ms/step - loss: 0.8168 - accuracy: 0.6471 - val_loss: 0.8733 - val_accuracy: 0.6154\n",
      "Epoch 18/100\n",
      "6/6 [==============================] - 0s 7ms/step - loss: 0.8319 - accuracy: 0.5882 - val_loss: 0.9546 - val_accuracy: 0.5385\n",
      "Epoch 19/100\n",
      "6/6 [==============================] - 0s 10ms/step - loss: 0.7986 - accuracy: 0.6078 - val_loss: 0.8606 - val_accuracy: 0.6154\n",
      "Epoch 20/100\n",
      "6/6 [==============================] - 0s 11ms/step - loss: 0.7352 - accuracy: 0.6667 - val_loss: 0.7614 - val_accuracy: 0.6923\n",
      "Epoch 21/100\n",
      "6/6 [==============================] - 0s 8ms/step - loss: 0.7267 - accuracy: 0.6078 - val_loss: 0.7323 - val_accuracy: 0.6923\n",
      "Epoch 22/100\n",
      "6/6 [==============================] - 0s 9ms/step - loss: 0.7152 - accuracy: 0.6471 - val_loss: 0.8168 - val_accuracy: 0.6923\n",
      "Epoch 23/100\n",
      "6/6 [==============================] - 0s 9ms/step - loss: 0.6796 - accuracy: 0.7451 - val_loss: 0.8970 - val_accuracy: 0.6154\n",
      "Epoch 24/100\n",
      "6/6 [==============================] - 0s 8ms/step - loss: 0.6634 - accuracy: 0.7255 - val_loss: 0.8190 - val_accuracy: 0.6923\n",
      "Epoch 25/100\n",
      "6/6 [==============================] - 0s 8ms/step - loss: 0.6192 - accuracy: 0.7843 - val_loss: 0.7006 - val_accuracy: 0.8462\n",
      "Epoch 26/100\n",
      "6/6 [==============================] - 0s 8ms/step - loss: 0.6562 - accuracy: 0.6863 - val_loss: 0.6784 - val_accuracy: 0.8462\n",
      "Epoch 27/100\n",
      "6/6 [==============================] - 0s 8ms/step - loss: 0.6013 - accuracy: 0.7647 - val_loss: 0.7659 - val_accuracy: 0.6154\n",
      "Epoch 28/100\n",
      "6/6 [==============================] - 0s 8ms/step - loss: 0.5786 - accuracy: 0.7843 - val_loss: 0.8170 - val_accuracy: 0.6154\n",
      "Epoch 29/100\n",
      "6/6 [==============================] - 0s 8ms/step - loss: 0.5803 - accuracy: 0.8235 - val_loss: 0.8980 - val_accuracy: 0.4615\n",
      "Epoch 30/100\n",
      "6/6 [==============================] - 0s 9ms/step - loss: 0.5549 - accuracy: 0.8627 - val_loss: 0.7901 - val_accuracy: 0.6154\n",
      "Epoch 31/100\n",
      "6/6 [==============================] - 0s 8ms/step - loss: 0.5635 - accuracy: 0.7255 - val_loss: 0.6910 - val_accuracy: 0.6923\n",
      "Epoch 32/100\n",
      "6/6 [==============================] - 0s 8ms/step - loss: 0.5613 - accuracy: 0.7647 - val_loss: 0.6847 - val_accuracy: 0.6923\n",
      "Epoch 33/100\n",
      "6/6 [==============================] - 0s 8ms/step - loss: 0.5058 - accuracy: 0.8039 - val_loss: 0.6778 - val_accuracy: 0.6154\n",
      "Epoch 34/100\n",
      "6/6 [==============================] - 0s 7ms/step - loss: 0.4860 - accuracy: 0.8431 - val_loss: 0.7076 - val_accuracy: 0.6154\n",
      "Epoch 35/100\n",
      "6/6 [==============================] - 0s 8ms/step - loss: 0.4742 - accuracy: 0.8235 - val_loss: 0.7906 - val_accuracy: 0.6154\n",
      "Epoch 36/100\n",
      "6/6 [==============================] - 0s 7ms/step - loss: 0.5193 - accuracy: 0.8235 - val_loss: 0.9401 - val_accuracy: 0.4615\n",
      "Epoch 37/100\n",
      "6/6 [==============================] - 0s 7ms/step - loss: 0.5487 - accuracy: 0.8235 - val_loss: 0.8522 - val_accuracy: 0.5385\n",
      "Epoch 38/100\n",
      "6/6 [==============================] - 0s 8ms/step - loss: 0.4805 - accuracy: 0.8235 - val_loss: 0.7345 - val_accuracy: 0.6154\n",
      "Epoch 39/100\n",
      "6/6 [==============================] - 0s 9ms/step - loss: 0.4548 - accuracy: 0.8235 - val_loss: 0.6929 - val_accuracy: 0.6154\n",
      "Epoch 40/100\n",
      "6/6 [==============================] - 0s 8ms/step - loss: 0.4440 - accuracy: 0.8431 - val_loss: 0.8174 - val_accuracy: 0.5385\n",
      "Epoch 41/100\n",
      "6/6 [==============================] - 0s 7ms/step - loss: 0.4375 - accuracy: 0.8431 - val_loss: 0.8457 - val_accuracy: 0.5385\n",
      "Epoch 42/100\n",
      "6/6 [==============================] - 0s 7ms/step - loss: 0.4262 - accuracy: 0.8431 - val_loss: 0.8278 - val_accuracy: 0.6154\n",
      "Epoch 43/100\n",
      "6/6 [==============================] - 0s 7ms/step - loss: 0.4046 - accuracy: 0.8627 - val_loss: 0.8261 - val_accuracy: 0.6154\n",
      "Model: \"sequential\"\n",
      "_________________________________________________________________\n",
      " Layer (type)                Output Shape              Param #   \n",
      "=================================================================\n",
      " dense (Dense)               (None, 20)                200       \n",
      "                                                                 \n",
      " dense_1 (Dense)             (None, 7)                 147       \n",
      "                                                                 \n",
      " dense_2 (Dense)             (None, 14)                112       \n",
      "                                                                 \n",
      " dense_3 (Dense)             (None, 7)                 105       \n",
      "                                                                 \n",
      "=================================================================\n",
      "Total params: 564\n",
      "Trainable params: 564\n",
      "Non-trainable params: 0\n",
      "_________________________________________________________________\n"
     ]
    }
   ],
   "source": [
    "# history = model.fit(x = xTrain_std , y = yTrain , epochs= 100,batch_size=10, validation_split=0.2, callbacks=[es])\n",
    "history = model.fit(x = xTrain_std , y = yTrain , epochs= 100,batch_size=10, validation_split=0.2, callbacks=[es])\n",
    "# print(glassDatabase.iloc[:,:-1])\n",
    "outputs = model.predict(xTest_std)\n",
    "outputs = pd.DataFrame(data = outputs)\n",
    "outputs.rename(columns={0:\"Class1\", 1:\"Class2\", 2:\"Class3\", 3:\"Class4\", 4:\"Class5\", 5:\"Class6\", 6:\"Class7\"} , inplace=True)\n",
    "outputsFinalPred = pd.DataFrame(np.where(outputs.T == outputs.T.max(), 1, 0),index=outputs.columns).T\n",
    "\n",
    "yTest.rename(columns={1:\"Class1\", 2:\"Class2\", 3:\"Class3\", 4:\"Class4\", 5:\"Class5\", 6:\"Class6\", 7:\"Class7\"} , inplace=True)\n",
    "model.summary()"
   ]
  },
  {
   "cell_type": "code",
   "execution_count": 8,
   "metadata": {},
   "outputs": [
    {
     "name": "stdout",
     "output_type": "stream",
     "text": [
      "Classes_prediction_>\n",
      " [1 1 5 1 0 1 0 6 1 6 0 1 1 1 0 0 0 0 0 0 1 0 0 1 6 1 1 0 1 0 6 0 0 1 6 1 4\n",
      " 0 0 1 6 1 1 0 1 1 1 6 1 0]\n",
      "Classes test results_>\n",
      " [1 6 5 1 0 4 1 6 2 6 0 1 1 0 0 0 1 0 1 0 0 2 0 1 6 1 1 0 1 0 6 1 1 1 6 2 6\n",
      " 0 0 0 6 0 1 1 1 5 1 6 1 0]\n"
     ]
    }
   ],
   "source": [
    "classes_pred = model.predict(xTest_std)\n",
    "classes_pred = classes_pred.argmax(axis=1)\n",
    "\n",
    "print(\"Classes_prediction_>\\n\",classes_pred[50:100])\n",
    "print(\"Classes test results_>\\n\",(yTest.values.argmax(axis=1))[50:100])"
   ]
  },
  {
   "cell_type": "markdown",
   "metadata": {},
   "source": [
    "### Plotting the results. (Heatmap/confusion matrix)"
   ]
  },
  {
   "cell_type": "code",
   "execution_count": 9,
   "metadata": {},
   "outputs": [
    {
     "data": {
      "image/png": "[encoded data removed]",
      "text/plain": [
       "<Figure size 432x288 with 1 Axes>"
      ]
     },
     "metadata": {
      "needs_background": "light"
     },
     "output_type": "display_data"
    },
    {
     "name": "stdout",
     "output_type": "stream",
     "text": [
      "Confusion matrix_>\n",
      " [[39 13  0  0  0  0]\n",
      " [13 34  0  3  0  0]\n",
      " [ 7  4  0  0  0  0]\n",
      " [ 0  3  0  5  0  1]\n",
      " [ 0  2  0  1  2  1]\n",
      " [ 0  3  0  1  0 18]]\n",
      "Correct predictions are _>\n",
      "\n"
     ]
    },
    {
     "data": {
      "text/plain": [
       "<AxesSubplot:>"
      ]
     },
     "execution_count": 9,
     "metadata": {},
     "output_type": "execute_result"
    },
    {
     "data": {
      "image/png": "[encoded data removed]",
      "text/plain": [
       "<Figure size 432x288 with 1 Axes>"
      ]
     },
     "metadata": {
      "needs_background": "light"
     },
     "output_type": "display_data"
    }
   ],
   "source": [
    "# Plot training & validation accuracy values\n",
    "plt.plot(history.history['loss'])\n",
    "plt.plot(history.history['val_loss'])\n",
    "plt.title('Training history')\n",
    "plt.ylabel('Performance index')\n",
    "plt.xlabel('Epoch')\n",
    "plt.legend(['MSE (train)', 'MSE (valid)'], loc='upper right')\n",
    "plt.grid()\n",
    "plt.show()\n",
    "\n",
    "matrix_confusion = confusion_matrix(\n",
    "    yTest.values.argmax(axis=1), outputsFinalPred.values.argmax(axis=1))\n",
    "print(\"Confusion matrix_>\\n\",matrix_confusion)\n",
    "print(\"Correct predictions are _>\\n\")\n",
    "sns.heatmap(matrix_confusion, square=True, annot=True, cmap='Blues', fmt='d', cbar=False)\n",
    "# df_confusion = pd.crosstab(yTest, outputsFinalPred, rownames=['Actual'], colnames=['Predicted'], margins=True)\n"
   ]
  }
 ],
 "metadata": {
  "kernelspec": {
   "display_name": "projectname",
   "language": "python",
   "name": "projectname"
  },
  "language_info": {
   "codemirror_mode": {
    "name": "ipython",
    "version": 3
   },
   "file_extension": ".py",
   "mimetype": "text/x-python",
   "name": "python",
   "nbconvert_exporter": "python",
   "pygments_lexer": "ipython3",
   "version": "3.9.7"
  },
  "orig_nbformat": 4,
  "vscode": {
   "interpreter": {
    "hash": "89e6a0942290a5e118dd98695202646455a29e2a3929f3235c09b356a2df320e"
   }
  }
 },
 "nbformat": 4,
 "nbformat_minor": 2
}
