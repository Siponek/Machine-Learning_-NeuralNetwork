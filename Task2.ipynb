{
 "cells": [
  {
   "cell_type": "markdown",
   "metadata": {},
   "source": [
    "# Task 2\n",
    "### The idea is to implement autoencoder - neural network where input is bascially mapped to output, and has some \"bottleneck\" in between"
   ]
  },
  {
   "cell_type": "markdown",
   "metadata": {},
   "source": [
    "#### Importing Libs/API"
   ]
  },
  {
   "cell_type": "code",
   "execution_count": 1,
   "metadata": {},
   "outputs": [],
   "source": [
    "import cv2\n",
    "from matplotlib import pyplot as plt\n",
    "from tensorflow import keras\n",
    "import numpy as np\n",
    "import pandas as pd\n",
    "import tensorflow as tf\n",
    "import pprint\n"
   ]
  },
  {
   "cell_type": "markdown",
   "metadata": {},
   "source": [
    "#### Importing default MNIST tensorflow keras data "
   ]
  },
  {
   "cell_type": "code",
   "execution_count": 2,
   "metadata": {},
   "outputs": [
    {
     "data": {
      "text/plain": [
       "<matplotlib.image.AxesImage at 0x1ea7cd64d90>"
      ]
     },
     "execution_count": 2,
     "metadata": {},
     "output_type": "execute_result"
    },
    {
     "data": {
      "image/png": "[encoded data removed]",
      "text/plain": [
       "<Figure size 432x288 with 1 Axes>"
      ]
     },
     "metadata": {
      "needs_background": "light"
     },
     "output_type": "display_data"
    }
   ],
   "source": [
    "#TODO 1: Split the data intox1,x2,x3,x4,x5,x6,x7,x8,x9,10\n",
    "(xTrain, yTrain), (xTest, yTest) = tf.keras.datasets.mnist.load_data()\n",
    "#? Checking the shape of the data, small preview\n",
    "plt.imshow(xTrain[0], cmap='gray')"
   ]
  },
  {
   "cell_type": "code",
   "execution_count": 3,
   "metadata": {},
   "outputs": [
    {
     "name": "stdout",
     "output_type": "stream",
     "text": [
      "(60000, 28, 28)\n",
      "(28, 28)\n",
      "[[  0   0   0   0   0   0   0   0   0   0   0   0   0   0   0   0   0   0   0   0   0   0   0   0   0   0   0   0]\n",
      " [  0   0   0   0   0   0   0   0   0   0   0   0   0   0   0   0   0   0   0   0   0   0   0   0   0   0   0   0]\n",
      " [  0   0   0   0   0   0   0   0   0   0   0   0   0   0   0   0   0   0   0   0   0   0   0   0   0   0   0   0]\n",
      " [  0   0   0   0   0   0   0   0   0   0   0   0   0   0   0   0   0   0   0   0   0   0   0   0   0   0   0   0]\n",
      " [  0   0   0   0   0   0   0   0   0   0   0   0   0   0   0   0   0   0   0   0   0   0   0   0   0   0   0   0]\n",
      " [  0   0   0   0   0   0   0   0   0   0   0   0   3  18  18  18 126 136 175  26 166 255 247 127   0   0   0   0]\n",
      " [  0   0   0   0   0   0   0   0  30  36  94 154 170 253 253 253 253 253 225 172 253 242 195  64   0   0   0   0]\n",
      " [  0   0   0   0   0   0   0  49 238 253 253 253 253 253 253 253 253 251  93  82  82  56  39   0   0   0   0   0]]\n",
      "uint8\n"
     ]
    }
   ],
   "source": [
    "print(xTrain.shape)\n",
    "print(xTrain[0].shape)\n",
    "# TODO Problem, the data has 28*28 inputs? Must optimize the data\n",
    "preview = xTrain[0][:8]\n",
    "np.set_printoptions( linewidth=784)\n",
    "print(preview)\n",
    "#* The data normalization for better processing for neural network\n",
    "print(xTrain.dtype)\n",
    "\n",
    "xTrain = xTrain.reshape((len(xTrain), np.prod(xTrain.shape[1:])))\n",
    "xTest = xTest.reshape((len(xTest), np.prod(xTest.shape[1:])))\n",
    "xTrain =  xTrain.astype('float32') / (255)\n",
    "xTest = xTest.astype('float32') / (255)"
   ]
  },
  {
   "cell_type": "markdown",
   "metadata": {},
   "source": [
    "## Encoder part"
   ]
  },
  {
   "cell_type": "code",
   "execution_count": 4,
   "metadata": {},
   "outputs": [],
   "source": [
    "\n",
    "# #* No need for convolutional layers in this case (Grayscale), just a simple fully connected layer\n",
    "# encoderInput = keras.Input(shape=(28, 28, 1), name='MINST_img')\n",
    "# #* Maps the input to a vector of size 784\n",
    "# x = keras.layers.Flatten()(encoderInput)\n",
    "# # x = keras.layers.Dense(128, activation='relu')(x)\n",
    "# encoderOutput = keras.layers.Dense(64, activation='relu')(x)\n",
    "# encoder = keras.Model(encoderInput, encoderOutput, name='encoderProcess')\n"
   ]
  },
  {
   "cell_type": "markdown",
   "metadata": {},
   "source": [
    "## Decoder part"
   ]
  },
  {
   "cell_type": "code",
   "execution_count": 5,
   "metadata": {},
   "outputs": [],
   "source": [
    "# decoderInput = keras.layers.Dense(64, activation=\"relu\")(encoderOutput)\n",
    "# decoderInput_transform = keras.layers.Dense(784, activation='relu')(decoderInput)\n",
    "# # x = keras.layers.Dense(784, activation='relu')(decoderInput_transform)\n",
    "# #* Need to reshape the output to the pervious stace of the input\n",
    "# decoderOutput = keras.layers.Reshape((28, 28, 1))(decoderInput_transform)\n",
    "# decoder = keras.Model(encoderInput, decoderOutput, name='decoderProcess')"
   ]
  },
  {
   "cell_type": "code",
   "execution_count": 45,
   "metadata": {},
   "outputs": [],
   "source": [
    "encoding_dimension = 32\n",
    "# This is our input image\n",
    "input_img = keras.Input(shape=(784,))\n",
    "# \"encoded\" is the encoded representation of the input\n",
    "encoded = keras.layers.Dense(encoding_dimension, activation='relu')(input_img)\n",
    "# \"decoded\" is the lossy reconstruction of the input\n",
    "decoded =keras.layers.Dense(784, activation='sigmoid')(encoded)\n",
    "\n",
    "# This model maps an input to its reconstruction\n",
    "autoencoder = keras.Model(input_img, decoded, name='Autoencoder')\n",
    "# This model maps an input to its encoded representation\n",
    "encoder = keras.Model(input_img, encoded, name='Encoder')\n",
    "# This is our encoded (32-dimensional) input\n",
    "encoded_input = keras.Input(shape=(encoding_dimension,))\n",
    "# Retrieve the last layer of the autoencoder model\n",
    "decoder_layer = autoencoder.layers[-1]\n",
    "# Create the decoder model\n",
    "decoder = keras.Model(encoded_input, decoder_layer(encoded_input), name='Decoder')\n"
   ]
  },
  {
   "cell_type": "markdown",
   "metadata": {},
   "source": [
    "### Tensorflow/Keras configuration"
   ]
  },
  {
   "cell_type": "code",
   "execution_count": 46,
   "metadata": {},
   "outputs": [
    {
     "name": "stderr",
     "output_type": "stream",
     "text": [
      "c:\\Users\\szink\\OneDrive\\Pulpit\\Studia\\MachineLearning\\virtualEnv_ML_DIR\\lib\\site-packages\\keras\\optimizer_v2\\adam.py:105: UserWarning: The `lr` argument is deprecated, use `learning_rate` instead.\n",
      "  super(Adam, self).__init__(name, **kwargs)\n"
     ]
    }
   ],
   "source": [
    "\n",
    "#* Gradient clipping involves forcing the gradient values (element-wise) to a specific minimum\n",
    "#* or maximum value if the gradient exceeded an expected range.\n",
    "# opt = keras.optimizers.Adam(lr=0.001, decay=0.0001, clipvalue=0.5, clipnorm=1, amsgrad=True, ) #* Adam optimizer\n",
    "opt = keras.optimizers.Adam(lr=0.001, decay=1e-6) #* Adam optimizer\n",
    "# opt = keras.optimizers.Adam(lr=0.001, decay=0.0001) #* Adam optimizer\n",
    "es = keras.callbacks.EarlyStopping(patience=10,restore_best_weights=True)"
   ]
  },
  {
   "cell_type": "code",
   "execution_count": 55,
   "metadata": {},
   "outputs": [
    {
     "name": "stdout",
     "output_type": "stream",
     "text": [
      "Model: \"Autoencoder\"\n",
      "_________________________________________________________________\n",
      " Layer (type)                Output Shape              Param #   \n",
      "=================================================================\n",
      " input_3 (InputLayer)        [(None, 784)]             0         \n",
      "                                                                 \n",
      " dense_2 (Dense)             (None, 32)                25120     \n",
      "                                                                 \n",
      " dense_3 (Dense)             (None, 784)               25872     \n",
      "                                                                 \n",
      "=================================================================\n",
      "Total params: 50,992\n",
      "Trainable params: 50,992\n",
      "Non-trainable params: 0\n",
      "_________________________________________________________________\n",
      "Model: \"Encoder\"\n",
      "_________________________________________________________________\n",
      " Layer (type)                Output Shape              Param #   \n",
      "=================================================================\n",
      " input_3 (InputLayer)        [(None, 784)]             0         \n",
      "                                                                 \n",
      " dense_2 (Dense)             (None, 32)                25120     \n",
      "                                                                 \n",
      "=================================================================\n",
      "Total params: 25,120\n",
      "Trainable params: 25,120\n",
      "Non-trainable params: 0\n",
      "_________________________________________________________________\n",
      "Model: \"Decoder\"\n",
      "_________________________________________________________________\n",
      " Layer (type)                Output Shape              Param #   \n",
      "=================================================================\n",
      " input_4 (InputLayer)        [(None, 32)]              0         \n",
      "                                                                 \n",
      " dense_3 (Dense)             (None, 784)               25872     \n",
      "                                                                 \n",
      "=================================================================\n",
      "Total params: 25,872\n",
      "Trainable params: 25,872\n",
      "Non-trainable params: 0\n",
      "_________________________________________________________________\n"
     ]
    }
   ],
   "source": [
    "# autoencoder = keras.Model(encoderInput, decoderOutput, name='autoencoder')\n",
    "autoencoder.compile(optimizer=opt, loss='mse')\n",
    "# autoencoder = keras.Model(encoderInput, decoderOutput, name='autoencoder')\n",
    "encoder.summary()\n",
    "decoder.summary()\n",
    "autoencoder.summary()"
   ]
  },
  {
   "cell_type": "code",
   "execution_count": 48,
   "metadata": {},
   "outputs": [
    {
     "name": "stdout",
     "output_type": "stream",
     "text": [
      "Epoch 1/10\n",
      "1688/1688 [==============================] - 3s 2ms/step - loss: 0.0340 - val_loss: 0.0175\n",
      "Epoch 2/10\n",
      "1688/1688 [==============================] - 3s 2ms/step - loss: 0.0143 - val_loss: 0.0122\n",
      "Epoch 3/10\n",
      "1688/1688 [==============================] - 3s 2ms/step - loss: 0.0115 - val_loss: 0.0111\n",
      "Epoch 4/10\n",
      "1688/1688 [==============================] - 3s 2ms/step - loss: 0.0109 - val_loss: 0.0108\n",
      "Epoch 5/10\n",
      "1688/1688 [==============================] - 3s 2ms/step - loss: 0.0107 - val_loss: 0.0106\n",
      "Epoch 6/10\n",
      "1688/1688 [==============================] - 3s 2ms/step - loss: 0.0105 - val_loss: 0.0105\n",
      "Epoch 7/10\n",
      "1688/1688 [==============================] - 3s 2ms/step - loss: 0.0105 - val_loss: 0.0104\n",
      "Epoch 8/10\n",
      "1688/1688 [==============================] - 3s 2ms/step - loss: 0.0104 - val_loss: 0.0104\n",
      "Epoch 9/10\n",
      "1688/1688 [==============================] - 3s 2ms/step - loss: 0.0103 - val_loss: 0.0103\n",
      "Epoch 10/10\n",
      "1688/1688 [==============================] - 3s 2ms/step - loss: 0.0103 - val_loss: 0.0103\n"
     ]
    },
    {
     "data": {
      "text/plain": [
       "<keras.callbacks.History at 0x1ea23e23df0>"
      ]
     },
     "execution_count": 48,
     "metadata": {},
     "output_type": "execute_result"
    }
   ],
   "source": [
    "# autoencoder = keras.Model(encoderInput, decoderOutput, name='autoencoder')\n",
    "autoencoder.compile(optimizer=opt, loss='mse')\n",
    "\n",
    "#* The fit function is used to go from 784 to 64 atributres\n",
    "#* If I can get the encoder to work, I can use the decoder to get the original image - thus proving that the encoder is working\n",
    "#* Rather than feeding the encoder with the original image, it is possible feed it with the encoded image(that still has the same meaning)\n",
    "\n",
    "# autoencoder.fit(xTrain, xTrain, epochs=10, batch_size=128,validation_split= 0.1 , validation_data=(xTest, xTest))\n",
    "autoencoder.fit(xTrain, xTrain, epochs=10, batch_size=32,validation_split= 0.1, callbacks=[es], shuffle=True)\n",
    "# autoencoder.fit(xTrain, xTrain, epochs=10, batch_size=128,validation_split= 0.1)\n",
    "# autoencoder.fit(xTrain, xTrain, epochs=3, batch_size=128,validation_split= 0.1)"
   ]
  },
  {
   "cell_type": "code",
   "execution_count": 49,
   "metadata": {},
   "outputs": [
    {
     "name": "stdout",
     "output_type": "stream",
     "text": [
      "example.shape (32,)\n",
      "example2.shape (784,)\n",
      "This is the 'encoded' example _>\n",
      "[ 2.366815    5.615285    3.2996836   1.4027162   4.5468183   2.8579345   6.791286    5.618843    8.12968     8.099736   11.920179    0.16522682  6.42631    10.904352    9.921184    4.885868    3.773844    5.957467    9.953076   10.961497    7.263204    7.148325    9.006678    0.12850547  0.          5.978803    6.246127    6.492277    7.5893826   5.471554    3.2373815   4.378117  ]\n"
     ]
    }
   ],
   "source": [
    "\n",
    "#* predict takes in list of predictions and outputs list of predictions\n",
    "encodedImgs = encoder.predict(xTest)\n",
    "decodedImgs = decoder.predict(encodedImgs)\n",
    "# example = encoder.predict([xTest[0].reshape(-1,28,28,1)])[0]\n",
    "example = encoder.predict([xTest[0].reshape(-1,784)])[0]\n",
    "print(\"example.shape\", example.shape)\n",
    "example2 = decoder.predict([example.reshape(-1,encoding_dimension)])[0]\n",
    "print(\"example2.shape\", example2.shape)\n",
    "print(\"This is the 'encoded' example _>\")\n",
    "print(example)"
   ]
  },
  {
   "cell_type": "markdown",
   "metadata": {},
   "source": [
    "#### Encoded image"
   ]
  },
  {
   "cell_type": "code",
   "execution_count": 50,
   "metadata": {},
   "outputs": [
    {
     "name": "stdout",
     "output_type": "stream",
     "text": [
      "example.shape (32,)\n",
      "example2.shape (784,)\n"
     ]
    },
    {
     "data": {
      "text/plain": [
       "<matplotlib.image.AxesImage at 0x1ea239f5190>"
      ]
     },
     "execution_count": 50,
     "metadata": {},
     "output_type": "execute_result"
    },
    {
     "data": {
      "image/png": "[encoded data removed]",
      "text/plain": [
       "<Figure size 432x288 with 1 Axes>"
      ]
     },
     "metadata": {
      "needs_background": "light"
     },
     "output_type": "display_data"
    }
   ],
   "source": [
    "# plt.imshow(example.reshape(8,8), cmap='Accent_r')\n",
    "print(\"example.shape\", example.shape)\n",
    "print(\"example2.shape\", example2.shape)\n",
    "plt.imshow(example2.reshape(-1,28), cmap='gray')\n",
    "# plt.imshow(example2.reshape(28,28), cmap='gray')"
   ]
  },
  {
   "cell_type": "code",
   "execution_count": 51,
   "metadata": {},
   "outputs": [
    {
     "data": {
      "text/plain": [
       "<matplotlib.image.AxesImage at 0x1ea23a2a550>"
      ]
     },
     "execution_count": 51,
     "metadata": {},
     "output_type": "execute_result"
    },
    {
     "data": {
      "image/png": "[encoded data removed]",
      "text/plain": [
       "<Figure size 432x288 with 1 Axes>"
      ]
     },
     "metadata": {
      "needs_background": "light"
     },
     "output_type": "display_data"
    }
   ],
   "source": [
    "plt.imshow(xTest[0].reshape(28,28), cmap='gray')\n"
   ]
  },
  {
   "cell_type": "markdown",
   "metadata": {},
   "source": [
    "#### How it is supposed to look"
   ]
  },
  {
   "cell_type": "code",
   "execution_count": 52,
   "metadata": {},
   "outputs": [],
   "source": [
    "encoded_imgs = encoder.predict(xTest)\n",
    "decoded_imgs = decoder.predict(encoded_imgs)\n",
    "autoencoded_imgs = autoencoder.predict(xTest)"
   ]
  },
  {
   "cell_type": "code",
   "execution_count": 53,
   "metadata": {},
   "outputs": [
    {
     "data": {
      "image/png": "[encoded data removed]",
      "text/plain": [
       "<Figure size 2160x576 with 30 Axes>"
      ]
     },
     "metadata": {
      "needs_background": "light"
     },
     "output_type": "display_data"
    }
   ],
   "source": [
    "n = 10  # How many digits we will display\n",
    "plt.figure(figsize=(30,8))\n",
    "for i in range(n):\n",
    "    # Display original\n",
    "    ax = plt.subplot(3, n, i + 1)\n",
    "    plt.imshow(xTest[i+100].reshape(28, 28))\n",
    "    plt.gray()\n",
    "    ax.get_xaxis().set_visible(False)\n",
    "    ax.get_yaxis().set_visible(False)\n",
    "    ax.set_title(\"Test Image\")\n",
    "\n",
    "    # Display reconstruction\n",
    "    ax = plt.subplot(3, n, i + 1 + n)\n",
    "    # plt.imshow(encoded_imgs[i].reshape(28, 28))\n",
    "    plt.imshow(encoded_imgs[i+100].reshape(-1,8), cmap='gray')\n",
    "    plt.gray()\n",
    "    ax.get_xaxis().set_visible(False)\n",
    "    ax.get_yaxis().set_visible(False)\n",
    "    ax.set_title(\"Encoded Image\")\n",
    "    \n",
    "    # Display autoencoder\n",
    "    ax = plt.subplot(3, n, i + 1 + 2*n)\n",
    "    plt.imshow(autoencoded_imgs[i+100].reshape(28, 28))\n",
    "    plt.gray()\n",
    "    ax.get_xaxis().set_visible(False)\n",
    "    ax.get_yaxis().set_visible(False)\n",
    "    \n",
    "    ax.set_title(\"Auto Encoded Image\")\n",
    "    \n",
    "plt.show()"
   ]
  },
  {
   "cell_type": "code",
   "execution_count": 54,
   "metadata": {},
   "outputs": [],
   "source": [
    "# print(\"This is the 'decoded' example (hopefully) _>\")\n",
    "# print(xTest[0].shape)\n",
    "# plt.imshow(xTest[0], cmap='gray')"
   ]
  },
  {
   "cell_type": "markdown",
   "metadata": {},
   "source": [
    "#### Decoded image"
   ]
  },
  {
   "cell_type": "code",
   "execution_count": null,
   "metadata": {},
   "outputs": [],
   "source": []
  }
 ],
 "metadata": {
  "kernelspec": {
   "display_name": "projectname",
   "language": "python",
   "name": "projectname"
  },
  "language_info": {
   "codemirror_mode": {
    "name": "ipython",
    "version": 3
   },
   "file_extension": ".py",
   "mimetype": "text/x-python",
   "name": "python",
   "nbconvert_exporter": "python",
   "pygments_lexer": "ipython3",
   "version": "3.9.7"
  },
  "orig_nbformat": 4,
  "vscode": {
   "interpreter": {
    "hash": "30ce3c260c001b5e6f0ddab3c8913c051b426dc08e4364b60e2658025f1c6f7c"
   }
  }
 },
 "nbformat": 4,
 "nbformat_minor": 2
}
