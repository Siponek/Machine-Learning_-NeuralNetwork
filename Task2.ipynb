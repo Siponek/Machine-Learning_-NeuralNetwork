{
 "cells": [
  {
   "cell_type": "markdown",
   "metadata": {},
   "source": [
    "# Task 2\n",
    "### The idea is to implement autoencoder - neural network where input is bascially mapped to output, and has some \"bottleneck\" in between"
   ]
  },
  {
   "cell_type": "markdown",
   "metadata": {},
   "source": [
    "#### Importing Libs/API"
   ]
  },
  {
   "cell_type": "code",
   "execution_count": 1,
   "metadata": {},
   "outputs": [],
   "source": [
    "import cv2\n",
    "from matplotlib import pyplot as plt\n",
    "from tensorflow import keras, math\n",
    "from keras.callbacks import TensorBoard\n",
    "\n",
    "import numpy as np\n",
    "import pandas as pd\n",
    "import tensorflow as tf\n",
    "\n",
    "import sklearn.metrics as metrics"
   ]
  },
  {
   "cell_type": "markdown",
   "metadata": {},
   "source": [
    "### Functions"
   ]
  },
  {
   "cell_type": "code",
   "execution_count": 2,
   "metadata": {},
   "outputs": [],
   "source": [
    "def plot_confusion_matrix(cm, classes,\n",
    "                        normalize=False,\n",
    "                        title='Confusion matrix',\n",
    "                        cmap=plt.cm.Blues):\n",
    "    \"\"\"\n",
    "    This function prints and plots the confusion matrix.\n",
    "    Normalization can be applied by setting `normalize=True`.\n",
    "    \"\"\"\n",
    "    plt.imshow(cm, interpolation='nearest', cmap=cmap)\n",
    "    plt.title(title)\n",
    "    plt.colorbar()\n",
    "    tick_marks = np.arange(len(classes))\n",
    "    plt.xticks(tick_marks, classes, rotation=45)\n",
    "    plt.yticks(tick_marks, classes)\n",
    "\n",
    "    if normalize:\n",
    "        cm = cm.astype('float') / cm.sum(axis=1)[:, np.newaxis]\n",
    "        print(\"Normalized confusion matrix\")\n",
    "    else:\n",
    "        print('Confusion matrix, without normalization')\n",
    "\n",
    "    print(cm)\n",
    "\n",
    "    thresh = cm.max() / 2.\n",
    "    for i, j in itertools.product(range(cm.shape[0]), range(cm.shape[1])):\n",
    "        plt.text(j, i, cm[i, j],\n",
    "            horizontalalignment=\"center\",\n",
    "            color=\"white\" if cm[i, j] > thresh else \"black\")\n",
    "\n",
    "    plt.tight_layout()\n",
    "    plt.ylabel('True label')\n",
    "    plt.xlabel('Predicted label')"
   ]
  },
  {
   "cell_type": "markdown",
   "metadata": {},
   "source": [
    "#### Importing default MNIST tensorflow keras data "
   ]
  },
  {
   "cell_type": "code",
   "execution_count": 3,
   "metadata": {},
   "outputs": [
    {
     "data": {
      "text/plain": [
       "<matplotlib.image.AxesImage at 0x15e8f16d5e0>"
      ]
     },
     "execution_count": 3,
     "metadata": {},
     "output_type": "execute_result"
    },
    {
     "data": {
      "image/png": "[encoded data removed]",
      "text/plain": [
       "<Figure size 432x288 with 1 Axes>"
      ]
     },
     "metadata": {
      "needs_background": "light"
     },
     "output_type": "display_data"
    }
   ],
   "source": [
    "#TODO 1: Split the data intox1,x2,x3,x4,x5,x6,x7,x8,x9,10\n",
    "(xTrain, yTrain), (xTest, yTest) = tf.keras.datasets.mnist.load_data()\n",
    "#? Checking the shape of the data, small preview\n",
    "plt.imshow(xTrain[0], cmap='gray')\n"
   ]
  },
  {
   "cell_type": "code",
   "execution_count": 20,
   "metadata": {},
   "outputs": [],
   "source": [
    "#TODO Posortować wszystkie zbiory wg. klasyfikacji ege. 1,2,3,4,.... (yTest, xTrain)\n",
    "#TODO dodać macierze ze sobą (np. 1,7)\n",
    "#TODO Odpalić compile na małych setach\n",
    "#TODO Pomieszać klasy\n",
    "\n",
    "def makeClassSet(xTrainSet, yTrainSet, xTestClass, yTestClass, firstclassNumber:int,secondclassNumber:int):\n",
    "    \"\"\"_summary_\n",
    "\n",
    "    Args:\n",
    "        xTrainSet (_type_): _description_\n",
    "        yTrainSet (_type_): _description_\n",
    "        xTestClass (_type_): _description_\n",
    "        yTestClass (_type_): _description_\n",
    "        firstclassNumber (int): _description_\n",
    "        secondclassNumber (int): _description_\n",
    "\n",
    "    Returns:\n",
    "        _type_: _description_\n",
    "    \"\"\"\n",
    "    # xtrain\n",
    "    firstTrainSet = xTrainSet[yTrainSet == firstclassNumber]\n",
    "    secondTrainSet = xTrainSet[yTrainSet == secondclassNumber]\n",
    "    xTrainArray = np.append(firstTrainSet, secondTrainSet, axis=0)\n",
    "    \n",
    "    # yTrain\n",
    "    trainFirstClassY = [firstclassNumber] * firstTrainSet.shape[0]\n",
    "    trainSecondClassY = [secondclassNumber] * firstTrainSet.shape[0]\n",
    "    trainYArray = np.append(trainFirstClassY, trainSecondClassY, axis=0)\n",
    "    \n",
    "    # xTest\n",
    "    firstTestSet = xTestClass[yTestClass == firstclassNumber]\n",
    "    secondTestSet = xTestClass[yTestClass == secondclassNumber]\n",
    "    xTestArray = np.append(firstTestSet, secondTestSet, axis=0)\n",
    "    \n",
    "    # yTest\n",
    "    testFirstClassY = [firstclassNumber] * firstTestSet.shape[0]\n",
    "    testSecondClassY = [secondclassNumber] * firstTestSet.shape[0]\n",
    "    testYArray = np.append(testFirstClassY, testSecondClassY, axis=0)\n",
    "    \n",
    "    \n",
    "    xTrainArray = xTrainArray.reshape((len(xTrainArray), np.prod(xTrainArray.shape[1:])))\n",
    "    xTestArray = xTestArray.reshape((len(xTestArray), np.prod(xTestArray.shape[1:])))\n",
    "    \n",
    "    xTrainArray =  xTrainArray.astype('float32') / (255)\n",
    "    xTestArray = xTestArray.astype('float32') / (255)\n",
    "\n",
    "    \n",
    "    return (xTrainArray, trainYArray), (xTestArray, testYArray)\n",
    "\n",
    "def prepareAutoencoderModel():\n",
    "    encoding_dimension = 32\n",
    "    # This is our input image\n",
    "    input_img = keras.Input(shape=(784,))\n",
    "    # \"encoded\" is the encoded representation of the input\n",
    "    encoded = keras.layers.Dense(encoding_dimension, activation='relu')(input_img)\n",
    "    # \"decoded\" is the lossy reconstruction of the input\n",
    "    decoded =keras.layers.Dense(784, activation='sigmoid')(encoded)\n",
    "\n",
    "    # This model maps an input to its reconstruction\n",
    "    autoencoder = keras.Model(input_img, decoded, name='Autoencoder')\n",
    "    # This model maps an input to its encoded representation\n",
    "    encoder = keras.Model(input_img, encoded, name='Encoder')\n",
    "    # This is our encoded (32-dimensional) input\n",
    "    encoded_input = keras.Input(shape=(encoding_dimension,))\n",
    "    # Retrieve the last layer of the autoencoder model\n",
    "    decoder_layer = autoencoder.layers[-1]\n",
    "    # Create the decoder model\n",
    "    decoder = keras.Model(encoded_input, decoder_layer(encoded_input), name='Decoder')\n",
    "\n",
    "    tf.keras.utils.plot_model(autoencoder, to_file='autoencoder.png', show_shapes=True)\n",
    "\n",
    "    opt = keras.optimizers.Adam(lr=0.001, decay=1e-6) #* Adam optimizer\n",
    "\n",
    "    autoencoder.compile(optimizer=opt, loss='mse')\n",
    "    autoencoder.summary()\n",
    "    return encoder, decoder, autoencoder\n",
    "\n",
    "def fitTheModel(xTrain, yTrain, xTest, yTest):\n",
    "    \"\"\"Returns images - encoded and decoded\"\"\"\n",
    "\n",
    "\n",
    "    es = keras.callbacks.EarlyStopping(patience=10,restore_best_weights=True)\n",
    "    encoder, decoder, autoencoder = prepareAutoencoderModel()\n",
    "    autoencoder.fit(xTrain, xTrain, epochs=10, batch_size=32,validation_split= 0.1, callbacks=[es, TensorBoard(log_dir='/tmp/autoencoder')], shuffle=True)\n",
    "    encoded_imgs = encoder.predict(xTest)\n",
    "    decoded_imgs = decoder.predict(encoded_imgs)\n",
    "    autoencoded_imgs = autoencoder.predict(xTest)\n",
    "    \n",
    "    return encoded_imgs, decoded_imgs, autoencoded_imgs\n",
    "\n",
    "def plotTheResults(xTest,encoded_imgs,autoencoded_imgs,  n = 10):\n",
    "    # How many digits we will display\n",
    "    plt.figure(figsize=(30,8))\n",
    "    listOfPreviesIndexes = []\n",
    "    for i in range(n):\n",
    "        randomIndex =  np.random.randint(0,(xTest.shape[0] ))\n",
    "        while randomIndex in listOfPreviesIndexes:\n",
    "            randomIndex =  np.random.randint(0,(xTest.shape[0] ))\n",
    "        listOfPreviesIndexes.append(randomIndex)\n",
    "        \n",
    "        # Display original\n",
    "        \n",
    "        ax = plt.subplot(3, n, i + 1)\n",
    "        plt.imshow(xTest[randomIndex].reshape(28, 28))\n",
    "        plt.gray()\n",
    "        ax.get_xaxis().set_visible(False)\n",
    "        ax.get_yaxis().set_visible(False)\n",
    "        ax.set_title(\"Test Image\")\n",
    "\n",
    "        # Display reconstruction\n",
    "        ax = plt.subplot(3, n, i + 1 + n)\n",
    "        # plt.imshow(encoded_imgs[i].reshape(28, 28))\n",
    "        plt.imshow(encoded_imgs[randomIndex].reshape(-1,8), cmap='gray')\n",
    "        plt.gray()\n",
    "        ax.get_xaxis().set_visible(False)\n",
    "        ax.get_yaxis().set_visible(False)\n",
    "        ax.set_title(\"Encoded Image\")\n",
    "        \n",
    "        # Display autoencoder\n",
    "        ax = plt.subplot(3, n, i + 1 + 2*n)\n",
    "        plt.imshow(autoencoded_imgs[randomIndex].reshape(28, 28))\n",
    "        plt.gray()\n",
    "        ax.get_xaxis().set_visible(False)\n",
    "        ax.get_yaxis().set_visible(False)\n",
    "        \n",
    "        ax.set_title(\"Auto Encoded Image\")\n",
    "        \n",
    "    plt.show()"
   ]
  },
  {
   "cell_type": "markdown",
   "metadata": {},
   "source": [
    "## Encoder part"
   ]
  },
  {
   "cell_type": "markdown",
   "metadata": {},
   "source": [
    "## Decoder part"
   ]
  },
  {
   "cell_type": "code",
   "execution_count": 6,
   "metadata": {},
   "outputs": [
    {
     "data": {
      "image/png": "[encoded data removed]",
      "text/plain": [
       "<IPython.core.display.Image object>"
      ]
     },
     "execution_count": 6,
     "metadata": {},
     "output_type": "execute_result"
    }
   ],
   "source": [
    "encoding_dimension = 32\n",
    "# This is our input image\n",
    "input_img = keras.Input(shape=(784,))\n",
    "# \"encoded\" is the encoded representation of the input\n",
    "encoded = keras.layers.Dense(encoding_dimension, activation='relu')(input_img)\n",
    "# \"decoded\" is the lossy reconstruction of the input\n",
    "decoded =keras.layers.Dense(784, activation='sigmoid')(encoded)\n",
    "\n",
    "# This model maps an input to its reconstruction\n",
    "autoencoder = keras.Model(input_img, decoded, name='Autoencoder')\n",
    "# This model maps an input to its encoded representation\n",
    "encoder = keras.Model(input_img, encoded, name='Encoder')\n",
    "# This is our encoded (32-dimensional) input\n",
    "encoded_input = keras.Input(shape=(encoding_dimension,))\n",
    "# Retrieve the last layer of the autoencoder model\n",
    "decoder_layer = autoencoder.layers[-1]\n",
    "# Create the decoder model\n",
    "decoder = keras.Model(encoded_input, decoder_layer(encoded_input), name='Decoder')\n",
    "# tf.keras.plot_model(encoder, 'encoder_no_compress.png', show_shapes=True)\n",
    "tf.keras.utils.plot_model(autoencoder, to_file='autoencoder.png', show_shapes=True)"
   ]
  },
  {
   "cell_type": "markdown",
   "metadata": {},
   "source": [
    "### Tensorflow/Keras configuration"
   ]
  },
  {
   "cell_type": "code",
   "execution_count": 7,
   "metadata": {},
   "outputs": [
    {
     "name": "stderr",
     "output_type": "stream",
     "text": [
      "c:\\Users\\szink\\OneDrive\\Pulpit\\Studia\\MachineLearning\\virtualEnv_ML_DIR\\lib\\site-packages\\keras\\optimizer_v2\\adam.py:105: UserWarning: The `lr` argument is deprecated, use `learning_rate` instead.\n",
      "  super(Adam, self).__init__(name, **kwargs)\n"
     ]
    }
   ],
   "source": [
    "\n",
    "#* Gradient clipping involves forcing the gradient values (element-wise) to a specific minimum\n",
    "#* or maximum value if the gradient exceeded an expected range.\n",
    "# opt = keras.optimizers.Adam(lr=0.001, decay=0.0001, clipvalue=0.5, clipnorm=1, amsgrad=True, ) #* Adam optimizer\n",
    "opt = keras.optimizers.Adam(lr=0.001, decay=1e-6) #* Adam optimizer\n",
    "# opt = keras.optimizers.Adam(lr=0.001, decay=0.0001) #* Adam optimizer\n",
    "es = keras.callbacks.EarlyStopping(patience=10,restore_best_weights=True)"
   ]
  },
  {
   "cell_type": "markdown",
   "metadata": {},
   "source": [
    "#### Encoded image"
   ]
  },
  {
   "cell_type": "markdown",
   "metadata": {},
   "source": [
    "#### How it is supposed to look"
   ]
  },
  {
   "cell_type": "markdown",
   "metadata": {},
   "source": [
    "#### Confusiuon Matrixies"
   ]
  },
  {
   "cell_type": "code",
   "execution_count": 11,
   "metadata": {},
   "outputs": [
    {
     "name": "stdout",
     "output_type": "stream",
     "text": [
      "Model: \"Autoencoder\"\n",
      "_________________________________________________________________\n",
      " Layer (type)                Output Shape              Param #   \n",
      "=================================================================\n",
      " input_3 (InputLayer)        [(None, 784)]             0         \n",
      "                                                                 \n",
      " dense_2 (Dense)             (None, 32)                25120     \n",
      "                                                                 \n",
      " dense_3 (Dense)             (None, 784)               25872     \n",
      "                                                                 \n",
      "=================================================================\n",
      "Total params: 50,992\n",
      "Trainable params: 50,992\n",
      "Non-trainable params: 0\n",
      "_________________________________________________________________\n"
     ]
    }
   ],
   "source": [
    "encoder, decoder, autoencoder = prepareAutoencoderModel()"
   ]
  },
  {
   "cell_type": "code",
   "execution_count": 10,
   "metadata": {},
   "outputs": [],
   "source": [
    "(xTrainSet27, yTrainSet27), (xTestSet27,yTestSet27) = makeClassSet(xTrainSet=xTrain, yTrainSet=yTrain, xTestClass=xTest, yTestClass=yTest, firstclassNumber=2, secondclassNumber=7)\n"
   ]
  },
  {
   "cell_type": "code",
   "execution_count": 18,
   "metadata": {},
   "outputs": [
    {
     "name": "stdout",
     "output_type": "stream",
     "text": [
      "Model: \"Autoencoder\"\n",
      "_________________________________________________________________\n",
      " Layer (type)                Output Shape              Param #   \n",
      "=================================================================\n",
      " input_7 (InputLayer)        [(None, 784)]             0         \n",
      "                                                                 \n",
      " dense_6 (Dense)             (None, 32)                25120     \n",
      "                                                                 \n",
      " dense_7 (Dense)             (None, 784)               25872     \n",
      "                                                                 \n",
      "=================================================================\n",
      "Total params: 50,992\n",
      "Trainable params: 50,992\n",
      "Non-trainable params: 0\n",
      "_________________________________________________________________\n",
      "Epoch 1/10\n"
     ]
    },
    {
     "name": "stderr",
     "output_type": "stream",
     "text": [
      "c:\\Users\\szink\\OneDrive\\Pulpit\\Studia\\MachineLearning\\virtualEnv_ML_DIR\\lib\\site-packages\\keras\\optimizer_v2\\adam.py:105: UserWarning: The `lr` argument is deprecated, use `learning_rate` instead.\n",
      "  super(Adam, self).__init__(name, **kwargs)\n"
     ]
    },
    {
     "name": "stdout",
     "output_type": "stream",
     "text": [
      "344/344 [==============================] - 1s 2ms/step - loss: 0.0593 - val_loss: 0.0280\n",
      "Epoch 2/10\n",
      "344/344 [==============================] - 1s 2ms/step - loss: 0.0306 - val_loss: 0.0204\n",
      "Epoch 3/10\n",
      "344/344 [==============================] - 1s 2ms/step - loss: 0.0236 - val_loss: 0.0164\n",
      "Epoch 4/10\n",
      "344/344 [==============================] - 1s 2ms/step - loss: 0.0194 - val_loss: 0.0139\n",
      "Epoch 5/10\n",
      "344/344 [==============================] - 1s 2ms/step - loss: 0.0167 - val_loss: 0.0120\n",
      "Epoch 6/10\n",
      "344/344 [==============================] - 1s 2ms/step - loss: 0.0147 - val_loss: 0.0108\n",
      "Epoch 7/10\n",
      "344/344 [==============================] - 1s 2ms/step - loss: 0.0132 - val_loss: 0.0097\n",
      "Epoch 8/10\n",
      "344/344 [==============================] - 1s 2ms/step - loss: 0.0120 - val_loss: 0.0089\n",
      "Epoch 9/10\n",
      "344/344 [==============================] - 1s 2ms/step - loss: 0.0111 - val_loss: 0.0082\n",
      "Epoch 10/10\n",
      "344/344 [==============================] - 1s 2ms/step - loss: 0.0104 - val_loss: 0.0078\n"
     ]
    }
   ],
   "source": [
    "encoded_imgs, decoded_imgs, autoencoded_imgs = fitTheModel(xTrainSet27, yTrainSet27, xTestSet27, yTestSet27)"
   ]
  },
  {
   "cell_type": "code",
   "execution_count": 23,
   "metadata": {},
   "outputs": [
    {
     "data": {
      "image/png": "[encoded data removed]",
      "text/plain": [
       "<Figure size 2160x576 with 30 Axes>"
      ]
     },
     "metadata": {
      "needs_background": "light"
     },
     "output_type": "display_data"
    }
   ],
   "source": [
    "plotTheResults(xTest=xTestSet27,  encoded_imgs=encoded_imgs, autoencoded_imgs=autoencoded_imgs)"
   ]
  }
 ],
 "metadata": {
  "kernelspec": {
   "display_name": "projectname",
   "language": "python",
   "name": "projectname"
  },
  "language_info": {
   "codemirror_mode": {
    "name": "ipython",
    "version": 3
   },
   "file_extension": ".py",
   "mimetype": "text/x-python",
   "name": "python",
   "nbconvert_exporter": "python",
   "pygments_lexer": "ipython3",
   "version": "3.9.7"
  },
  "orig_nbformat": 4,
  "vscode": {
   "interpreter": {
    "hash": "30ce3c260c001b5e6f0ddab3c8913c051b426dc08e4364b60e2658025f1c6f7c"
   }
  }
 },
 "nbformat": 4,
 "nbformat_minor": 2
}
