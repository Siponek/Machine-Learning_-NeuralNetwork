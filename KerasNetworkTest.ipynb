{
 "cells": [
  {
   "cell_type": "markdown",
   "metadata": {},
   "source": [
    "### Importing API and libs"
   ]
  },
  {
   "cell_type": "code",
   "execution_count": 1,
   "metadata": {},
   "outputs": [
    {
     "name": "stdout",
     "output_type": "stream",
     "text": [
      "Keras in standby...\n"
     ]
    }
   ],
   "source": [
    "import pandas as pd\n",
    "import numpy as np\n",
    "import matplotlib.pyplot as plt\n",
    "import matplotlib.image as im\n",
    "from sklearn.model_selection import train_test_split\n",
    "from sklearn.metrics import confusion_matrix\n",
    "from sklearn import preprocessing\n",
    "from tensorflow import keras\n",
    "import seaborn as sns\n",
    "from collections import Counter\n",
    "print(\"Keras in standby...\")"
   ]
  },
  {
   "cell_type": "markdown",
   "metadata": {},
   "source": [
    "### Reading data:"
   ]
  },
  {
   "cell_type": "code",
   "execution_count": 44,
   "metadata": {},
   "outputs": [
    {
     "name": "stdout",
     "output_type": "stream",
     "text": [
      "Counter yTrain_> Counter({0: 23, 1: 22, 6: 9, 4: 5, 2: 4, 5: 1})\n",
      "Countery Test_> Counter({1: 54, 0: 47, 6: 20, 2: 13, 4: 8, 5: 8})\n"
     ]
    },
    {
     "data": {
      "text/plain": [
       "[]"
      ]
     },
     "execution_count": 44,
     "metadata": {},
     "output_type": "execute_result"
    },
    {
     "data": {
      "image/png": "[encoded data removed]",
      "text/plain": [
       "<Figure size 432x288 with 1 Axes>"
      ]
     },
     "metadata": {
      "needs_background": "light"
     },
     "output_type": "display_data"
    }
   ],
   "source": [
    "glassDatabase = pd.read_csv(\"Databases/Glass/glass.data\",delim_whitespace=False, header=None, index_col= 0)\n",
    "attrNames = [\"RI\",\n",
    "            \"NA2O\",\n",
    "            \"MGO\",\n",
    "            \"AL2O3\",\n",
    "            \"SIO2\",\n",
    "            \"K2O\",\n",
    "            \"CAO\",\n",
    "            \"BAO\",\n",
    "            \"FE2O3\",\n",
    "            \"Class\",\n",
    "            ]\n",
    "\n",
    "glassDatabase.columns = attrNames\n",
    "# print((glassDatabase))\n",
    "# labels = glassDatabase.iloc[:,-1]\n",
    "labels = glassDatabase[\"Class\"]\n",
    "# labels_NORMAL = labels.min()/(labels.max() - labels.min())\n",
    "glassDatabase_Attributes = glassDatabase.iloc[:,0:-1]\n",
    "y2= keras.utils.to_categorical(labels)\n",
    "y2 = pd.DataFrame(data = y2)\n",
    "y2 = y2.iloc[:,1:]\n",
    "# xTrain, xTest, yTrain, yTest = train_test_split(glassDatabase_Attributes, labels, test_size=0.7, train_size=0.3, shuffle=True)\n",
    "\n",
    "xTrain, xTest, yTrain, yTest = train_test_split(glassDatabase_Attributes, y2, test_size=0.7, train_size=0.3, shuffle=True)\n",
    "\n",
    "print(\"Counter yTrain_>\",Counter(np.argmax(yTrain.values, axis=-1)))\n",
    "countYTrain = Counter(np.argmax(yTrain.values, axis=-1))\n",
    "print(\"Countery Test_>\",Counter(np.argmax(yTest.values, axis=-1)))\n",
    "countYTest = Counter(np.argmax(yTest.values, axis=-1))\n",
    "# previewFrameYTrain = pd.DataFrame.from_dict(Counter(np.argmax(yTrain.values, axis=-1)), orient='index')\n",
    "# previewFrameYTest = pd.DataFrame.from_dict(Counter(np.argmax(yTest.values, axis=-1)), orient='index')\n",
    "# sns.countplot(x =previewFrameYTrain[0] , data = previewFrameYTrain, order=previewFrameYTrain[0].value_counts().index)\n",
    "plt.bar(countYTrain.keys(),countYTrain.values(), color='g')\n",
    "plt.plot()\n",
    "\n",
    "# sns.barplot(x=, y=, data=previewFrameYTrain)\n",
    "# sns.barplot(x=\"Class\", y=\"Class\", data=previewFrameYTest)"
   ]
  },
  {
   "cell_type": "code",
   "execution_count": 45,
   "metadata": {},
   "outputs": [
    {
     "data": {
      "text/plain": [
       "[]"
      ]
     },
     "execution_count": 45,
     "metadata": {},
     "output_type": "execute_result"
    },
    {
     "data": {
      "image/png": "[encoded data removed]",
      "text/plain": [
       "<Figure size 432x288 with 1 Axes>"
      ]
     },
     "metadata": {
      "needs_background": "light"
     },
     "output_type": "display_data"
    }
   ],
   "source": [
    "plt.bar(countYTest.keys(),countYTest.values(), color='g')\n",
    "plt.plot()"
   ]
  },
  {
   "cell_type": "markdown",
   "metadata": {},
   "source": [
    "### Normalization"
   ]
  },
  {
   "cell_type": "code",
   "execution_count": 3,
   "metadata": {},
   "outputs": [],
   "source": [
    "# for i in range(0, glassDatabase.shape[1]-1):\n",
    "    # glassDatabase.iloc[:,i] = (glassDatabase.iloc[:,i] - glassDatabase.iloc[:,i].min())/ (glassDatabase.iloc[:,i].max() - glassDatabase.iloc[:,i].min())\n",
    "\n",
    "scaler= preprocessing.StandardScaler().fit(xTrain)\n",
    "xTrain_std = scaler.transform(xTrain)\n",
    "xTest_std = scaler.transform(xTest)"
   ]
  },
  {
   "cell_type": "markdown",
   "metadata": {},
   "source": [
    "### Creating a model"
   ]
  },
  {
   "cell_type": "code",
   "execution_count": 4,
   "metadata": {},
   "outputs": [],
   "source": [
    "model = keras.Sequential()\n",
    "# model.add(keras.layers.Dense(10, activation=\"sigmoid\", input_dim = glassDatabase.shape[1]-1))\n",
    "model.add(keras.layers.Dense(10, activation=\"relu\"))\n",
    "model.add(keras.layers.Dense(7, activation=\"relu\"))\n",
    "model.add(keras.layers.Dense(5, activation=\"relu\"))\n",
    "model.add(keras.layers.Dense(3, activation=\"relu\"))\n",
    "# model.add(keras.layers.Dense(7, activation=\"relu\"))\n",
    "model.add(keras.layers.Dense(7, activation=\"softmax\"))\n",
    "# model.add(keras.layers.Dense(1, activation=\"softmax\"))\n",
    "# model.add(keras.layers.Dense(1, activation='linear'))\n",
    "opt = keras.optimizers.Adam(learning_rate=0.001, decay=1e-6)\n",
    "es = keras.callbacks.EarlyStopping(patience=10,restore_best_weights=True)\n",
    "\n",
    "model.compile(optimizer=opt, loss='categorical_crossentropy', metrics=[\"accuracy\"])\n",
    "np.random.seed(1)\n"
   ]
  },
  {
   "cell_type": "markdown",
   "metadata": {},
   "source": [
    "### Training the network"
   ]
  },
  {
   "cell_type": "code",
   "execution_count": 5,
   "metadata": {},
   "outputs": [
    {
     "name": "stdout",
     "output_type": "stream",
     "text": [
      "Epoch 1/100\n",
      "6/6 [==============================] - 1s 36ms/step - loss: 2.0035 - accuracy: 0.0392 - val_loss: 2.0833 - val_accuracy: 0.0000e+00\n",
      "Epoch 2/100\n",
      "6/6 [==============================] - 0s 6ms/step - loss: 1.9879 - accuracy: 0.1765 - val_loss: 2.0655 - val_accuracy: 0.1538\n",
      "Epoch 3/100\n",
      "6/6 [==============================] - 0s 6ms/step - loss: 1.9766 - accuracy: 0.2549 - val_loss: 2.0495 - val_accuracy: 0.1538\n",
      "Epoch 4/100\n",
      "6/6 [==============================] - 0s 6ms/step - loss: 1.9661 - accuracy: 0.3137 - val_loss: 2.0352 - val_accuracy: 0.2308\n",
      "Epoch 5/100\n",
      "6/6 [==============================] - 0s 6ms/step - loss: 1.9575 - accuracy: 0.3725 - val_loss: 2.0196 - val_accuracy: 0.2308\n",
      "Epoch 6/100\n",
      "6/6 [==============================] - 0s 6ms/step - loss: 1.9491 - accuracy: 0.3922 - val_loss: 2.0091 - val_accuracy: 0.2308\n",
      "Epoch 7/100\n",
      "6/6 [==============================] - 0s 7ms/step - loss: 1.9411 - accuracy: 0.3922 - val_loss: 1.9987 - val_accuracy: 0.2308\n",
      "Epoch 8/100\n",
      "6/6 [==============================] - 0s 7ms/step - loss: 1.9336 - accuracy: 0.3922 - val_loss: 1.9890 - val_accuracy: 0.2308\n",
      "Epoch 9/100\n",
      "6/6 [==============================] - 0s 6ms/step - loss: 1.9262 - accuracy: 0.3922 - val_loss: 1.9816 - val_accuracy: 0.2308\n",
      "Epoch 10/100\n",
      "6/6 [==============================] - 0s 6ms/step - loss: 1.9196 - accuracy: 0.3922 - val_loss: 1.9730 - val_accuracy: 0.2308\n",
      "Epoch 11/100\n",
      "6/6 [==============================] - 0s 6ms/step - loss: 1.9125 - accuracy: 0.3922 - val_loss: 1.9682 - val_accuracy: 0.2308\n",
      "Epoch 12/100\n",
      "6/6 [==============================] - 0s 6ms/step - loss: 1.9065 - accuracy: 0.3922 - val_loss: 1.9629 - val_accuracy: 0.2308\n",
      "Epoch 13/100\n",
      "6/6 [==============================] - 0s 6ms/step - loss: 1.9015 - accuracy: 0.3922 - val_loss: 1.9593 - val_accuracy: 0.2308\n",
      "Epoch 14/100\n",
      "6/6 [==============================] - 0s 6ms/step - loss: 1.8961 - accuracy: 0.3922 - val_loss: 1.9565 - val_accuracy: 0.2308\n",
      "Epoch 15/100\n",
      "6/6 [==============================] - 0s 6ms/step - loss: 1.8914 - accuracy: 0.3922 - val_loss: 1.9548 - val_accuracy: 0.2308\n",
      "Epoch 16/100\n",
      "6/6 [==============================] - 0s 6ms/step - loss: 1.8856 - accuracy: 0.3922 - val_loss: 1.9502 - val_accuracy: 0.2308\n",
      "Epoch 17/100\n",
      "6/6 [==============================] - 0s 6ms/step - loss: 1.8805 - accuracy: 0.3922 - val_loss: 1.9464 - val_accuracy: 0.2308\n",
      "Epoch 18/100\n",
      "6/6 [==============================] - 0s 6ms/step - loss: 1.8754 - accuracy: 0.3922 - val_loss: 1.9447 - val_accuracy: 0.2308\n",
      "Epoch 19/100\n",
      "6/6 [==============================] - 0s 6ms/step - loss: 1.8699 - accuracy: 0.3922 - val_loss: 1.9419 - val_accuracy: 0.2308\n",
      "Epoch 20/100\n",
      "6/6 [==============================] - 0s 7ms/step - loss: 1.8645 - accuracy: 0.3922 - val_loss: 1.9383 - val_accuracy: 0.2308\n",
      "Epoch 21/100\n",
      "6/6 [==============================] - 0s 9ms/step - loss: 1.8592 - accuracy: 0.3922 - val_loss: 1.9350 - val_accuracy: 0.2308\n",
      "Epoch 22/100\n",
      "6/6 [==============================] - 0s 9ms/step - loss: 1.8536 - accuracy: 0.3922 - val_loss: 1.9338 - val_accuracy: 0.2308\n",
      "Epoch 23/100\n",
      "6/6 [==============================] - 0s 6ms/step - loss: 1.8483 - accuracy: 0.3922 - val_loss: 1.9331 - val_accuracy: 0.2308\n",
      "Epoch 24/100\n",
      "6/6 [==============================] - 0s 7ms/step - loss: 1.8428 - accuracy: 0.3922 - val_loss: 1.9307 - val_accuracy: 0.2308\n",
      "Epoch 25/100\n",
      "6/6 [==============================] - 0s 7ms/step - loss: 1.8379 - accuracy: 0.3922 - val_loss: 1.9332 - val_accuracy: 0.2308\n",
      "Epoch 26/100\n",
      "6/6 [==============================] - 0s 7ms/step - loss: 1.8329 - accuracy: 0.3922 - val_loss: 1.9358 - val_accuracy: 0.2308\n",
      "Epoch 27/100\n",
      "6/6 [==============================] - 0s 8ms/step - loss: 1.8281 - accuracy: 0.3922 - val_loss: 1.9385 - val_accuracy: 0.2308\n",
      "Epoch 28/100\n",
      "6/6 [==============================] - 0s 8ms/step - loss: 1.8233 - accuracy: 0.3922 - val_loss: 1.9405 - val_accuracy: 0.2308\n",
      "Epoch 29/100\n",
      "6/6 [==============================] - 0s 7ms/step - loss: 1.8177 - accuracy: 0.3922 - val_loss: 1.9424 - val_accuracy: 0.2308\n",
      "Epoch 30/100\n",
      "6/6 [==============================] - 0s 8ms/step - loss: 1.8121 - accuracy: 0.3922 - val_loss: 1.9442 - val_accuracy: 0.2308\n",
      "Epoch 31/100\n",
      "6/6 [==============================] - 0s 7ms/step - loss: 1.8056 - accuracy: 0.3922 - val_loss: 1.9481 - val_accuracy: 0.2308\n",
      "Epoch 32/100\n",
      "6/6 [==============================] - 0s 7ms/step - loss: 1.7982 - accuracy: 0.3922 - val_loss: 1.9503 - val_accuracy: 0.2308\n",
      "Epoch 33/100\n",
      "6/6 [==============================] - 0s 6ms/step - loss: 1.7918 - accuracy: 0.3922 - val_loss: 1.9454 - val_accuracy: 0.2308\n",
      "Epoch 34/100\n",
      "6/6 [==============================] - 0s 7ms/step - loss: 1.7856 - accuracy: 0.3922 - val_loss: 1.9449 - val_accuracy: 0.2308\n",
      "Model: \"sequential\"\n",
      "_________________________________________________________________\n",
      " Layer (type)                Output Shape              Param #   \n",
      "=================================================================\n",
      " dense (Dense)               (None, 10)                100       \n",
      "                                                                 \n",
      " dense_1 (Dense)             (None, 7)                 77        \n",
      "                                                                 \n",
      " dense_2 (Dense)             (None, 5)                 40        \n",
      "                                                                 \n",
      " dense_3 (Dense)             (None, 3)                 18        \n",
      "                                                                 \n",
      " dense_4 (Dense)             (None, 7)                 28        \n",
      "                                                                 \n",
      "=================================================================\n",
      "Total params: 263\n",
      "Trainable params: 263\n",
      "Non-trainable params: 0\n",
      "_________________________________________________________________\n"
     ]
    }
   ],
   "source": [
    "# history = model.fit(x = xTrain_std , y = yTrain , epochs= 100,batch_size=10, validation_split=0.2, callbacks=[es])\n",
    "history = model.fit(x = xTrain_std , y = yTrain , epochs= 100,batch_size=10, validation_split=0.2, callbacks=[es])\n",
    "# print(glassDatabase.iloc[:,:-1])\n",
    "outputs = model.predict(xTest_std)\n",
    "outputs = pd.DataFrame(data = outputs)\n",
    "outputs.rename(columns={0:\"Class1\", 1:\"Class2\", 2:\"Class3\", 3:\"Class4\", 4:\"Class5\", 5:\"Class6\", 6:\"Class7\"} , inplace=True)\n",
    "outputsFinalPred = pd.DataFrame(np.where(outputs.T == outputs.T.max(), 1, 0),index=outputs.columns).T\n",
    "\n",
    "yTest.rename(columns={1:\"Class1\", 2:\"Class2\", 3:\"Class3\", 4:\"Class4\", 5:\"Class5\", 6:\"Class6\", 7:\"Class7\"} , inplace=True)\n",
    "model.summary()\n"
   ]
  },
  {
   "cell_type": "code",
   "execution_count": 6,
   "metadata": {},
   "outputs": [
    {
     "name": "stdout",
     "output_type": "stream",
     "text": [
      "Classes_prediction_>\n",
      " [[0.16117957 0.15731715 0.14405607 0.12713139 0.1370908  0.1340147\n",
      "  0.13921034]\n",
      " [0.1627875  0.15570952 0.14566353 0.12844606 0.13648598 0.13364029\n",
      "  0.13726704]\n",
      " [0.16117957 0.15731715 0.14405607 0.12713139 0.1370908  0.1340147\n",
      "  0.13921034]\n",
      " [0.16425858 0.15411761 0.14722955 0.12979943 0.13635564 0.13264641\n",
      "  0.13559273]\n",
      " [0.1624927  0.15587984 0.14546013 0.12835374 0.13703416 0.13306388\n",
      "  0.13771556]\n",
      " [0.16270894 0.15633066 0.14517245 0.12771137 0.13455103 0.13660376\n",
      "  0.13692187]\n",
      " [0.16487885 0.15348832 0.14786032 0.13032085 0.13615276 0.13243972\n",
      "  0.13485923]\n",
      " [0.1653513  0.15361743 0.1478713  0.12995608 0.13382186 0.13554658\n",
      "  0.13383545]\n",
      " [0.20302431 0.11851273 0.18444464 0.15740854 0.10992126 0.13494745\n",
      "  0.09174113]\n",
      " [0.16459927 0.15378357 0.14756721 0.13007168 0.13620384 0.13259326\n",
      "  0.13518119]\n",
      " [0.19721013 0.12386607 0.17873509 0.15325719 0.11382576 0.13539222\n",
      "  0.09771358]\n",
      " [0.16221185 0.15610668 0.14521827 0.12818755 0.1373281  0.1328531\n",
      "  0.13809446]\n",
      " [0.16244008 0.1560585  0.14531459 0.12815979 0.13661127 0.1337315\n",
      "  0.13768435]\n",
      " [0.17430857 0.14572889 0.15597607 0.13577966 0.12633085 0.13929144\n",
      "  0.12258454]\n",
      " [0.16239679 0.15600678 0.14534129 0.12823813 0.13696165 0.13324715\n",
      "  0.1378082 ]\n",
      " [0.16574615 0.15271941 0.14865953 0.13091455 0.1354805  0.13272215\n",
      "  0.13375767]\n",
      " [0.16769005 0.1506452  0.15072316 0.13268138 0.13519645 0.13150702\n",
      "  0.13155672]\n",
      " [0.16474536 0.15355764 0.14777386 0.13028862 0.13642608 0.13214435\n",
      "  0.13506407]\n",
      " [0.16234255 0.15594834 0.14536932 0.12832744 0.13737501 0.13268061\n",
      "  0.13795677]\n",
      " [0.18259978 0.1389435  0.16274457 0.13986094 0.11647706 0.1475213\n",
      "  0.11185283]\n",
      " [0.16592708 0.15239377 0.1489517  0.13124152 0.13591644 0.13192296\n",
      "  0.13364653]\n",
      " [0.16117957 0.15731715 0.14405607 0.12713139 0.1370908  0.1340147\n",
      "  0.13921034]\n",
      " [0.17807898 0.14263928 0.15911326 0.13774605 0.12203882 0.1426647\n",
      "  0.11771899]\n",
      " [0.16246891 0.15648733 0.14499764 0.12762126 0.13494936 0.13619421\n",
      "  0.13728127]\n",
      " [0.1656312  0.152676   0.14866348 0.13101402 0.13607611 0.13193217\n",
      "  0.13400713]\n",
      " [0.18087114 0.13739999 0.16432776 0.14383279 0.13031206 0.12664443\n",
      "  0.11661189]\n",
      " [0.16322826 0.15521951 0.14614184 0.1288668  0.13649385 0.13327543\n",
      "  0.1367744 ]\n",
      " [0.16238126 0.15608646 0.14527854 0.12814872 0.13674223 0.13358414\n",
      "  0.13777871]\n",
      " [0.16117957 0.15731715 0.14405607 0.12713139 0.1370908  0.1340147\n",
      "  0.13921034]\n",
      " [0.16117957 0.15731715 0.14405607 0.12713139 0.1370908  0.1340147\n",
      "  0.13921034]\n",
      " [0.16591261 0.15235706 0.14897563 0.131292   0.13609894 0.13166444\n",
      "  0.13369939]\n",
      " [0.19371665 0.12564817 0.17690848 0.1532768  0.12157854 0.12649122\n",
      "  0.1023802 ]\n",
      " [0.16117957 0.15731715 0.14405607 0.12713139 0.1370908  0.1340147\n",
      "  0.13921034]\n",
      " [0.16117957 0.15731715 0.14405607 0.12713139 0.1370908  0.1340147\n",
      "  0.13921034]\n",
      " [0.16344687 0.15483674 0.14648248 0.12924317 0.13698402 0.1323748\n",
      "  0.13663195]\n",
      " [0.16117957 0.15731715 0.14405607 0.12713139 0.1370908  0.1340147\n",
      "  0.13921034]\n",
      " [0.16543359 0.15280455 0.14851579 0.13093461 0.1363892  0.1316323\n",
      "  0.1342899 ]\n",
      " [0.16912541 0.15028201 0.15130496 0.13245703 0.1307569  0.13702215\n",
      "  0.12905157]\n",
      " [0.16259876 0.15588862 0.1454817  0.12830316 0.13659106 0.13363506\n",
      "  0.1375016 ]\n",
      " [0.16181238 0.15660848 0.14474382 0.12773895 0.13712066 0.13347432\n",
      "  0.1385014 ]\n",
      " [0.16117957 0.15731715 0.14405607 0.12713139 0.1370908  0.1340147\n",
      "  0.13921034]\n",
      " [0.16409776 0.1543357  0.14702517 0.12959783 0.13621616 0.13298422\n",
      "  0.13574313]\n",
      " [0.20073625 0.11964892 0.18339917 0.15768513 0.11528539 0.12846929\n",
      "  0.09477585]\n",
      " [0.16117957 0.15731715 0.14405607 0.12713139 0.1370908  0.1340147\n",
      "  0.13921034]\n",
      " [0.16117957 0.15731715 0.14405607 0.12713139 0.1370908  0.1340147\n",
      "  0.13921034]\n",
      " [0.1614518  0.15699694 0.14436303 0.12741089 0.13715807 0.13370234\n",
      "  0.13891703]\n",
      " [0.16117957 0.15731715 0.14405607 0.12713139 0.1370908  0.1340147\n",
      "  0.13921034]\n",
      " [0.16934404 0.14894702 0.15243575 0.13410869 0.13471739 0.13079505\n",
      "  0.12965205]\n",
      " [0.16117957 0.15731715 0.14405607 0.12713139 0.1370908  0.1340147\n",
      "  0.13921034]\n",
      " [0.16738781 0.15121122 0.15021306 0.13210085 0.13438816 0.13297461\n",
      "  0.13172428]]\n",
      "Classes test results_>\n",
      "      Class1  Class2  Class3  Class4  Class5  Class6  Class7\n",
      "144     0.0     1.0     0.0     0.0     0.0     0.0     0.0\n",
      "14      1.0     0.0     0.0     0.0     0.0     0.0     0.0\n",
      "163     0.0     0.0     0.0     0.0     1.0     0.0     0.0\n",
      "9       1.0     0.0     0.0     0.0     0.0     0.0     0.0\n",
      "60      1.0     0.0     0.0     0.0     0.0     0.0     0.0\n",
      "202     0.0     0.0     0.0     0.0     0.0     0.0     1.0\n",
      "7       1.0     0.0     0.0     0.0     0.0     0.0     0.0\n",
      "200     0.0     0.0     0.0     0.0     0.0     0.0     1.0\n",
      "117     0.0     1.0     0.0     0.0     0.0     0.0     0.0\n",
      "136     0.0     1.0     0.0     0.0     0.0     0.0     0.0\n",
      "95      0.0     1.0     0.0     0.0     0.0     0.0     0.0\n",
      "54      1.0     0.0     0.0     0.0     0.0     0.0     0.0\n",
      "124     0.0     1.0     0.0     0.0     0.0     0.0     0.0\n",
      "159     0.0     0.0     1.0     0.0     0.0     0.0     0.0\n",
      "137     0.0     1.0     0.0     0.0     0.0     0.0     0.0\n",
      "30      1.0     0.0     0.0     0.0     0.0     0.0     0.0\n",
      "177     0.0     0.0     0.0     0.0     0.0     1.0     0.0\n",
      "27      1.0     0.0     0.0     0.0     0.0     0.0     0.0\n",
      "91      0.0     1.0     0.0     0.0     0.0     0.0     0.0\n",
      "127     0.0     1.0     0.0     0.0     0.0     0.0     0.0\n",
      "6       1.0     0.0     0.0     0.0     0.0     0.0     0.0\n",
      "205     0.0     0.0     0.0     0.0     0.0     0.0     1.0\n",
      "50      1.0     0.0     0.0     0.0     0.0     0.0     0.0\n",
      "191     0.0     0.0     0.0     0.0     0.0     0.0     1.0\n",
      "4       1.0     0.0     0.0     0.0     0.0     0.0     0.0\n",
      "182     0.0     0.0     0.0     0.0     0.0     1.0     0.0\n",
      "69      1.0     0.0     0.0     0.0     0.0     0.0     0.0\n",
      "114     0.0     1.0     0.0     0.0     0.0     0.0     0.0\n",
      "194     0.0     0.0     0.0     0.0     0.0     0.0     1.0\n",
      "164     0.0     0.0     0.0     0.0     1.0     0.0     0.0\n",
      "26      1.0     0.0     0.0     0.0     0.0     0.0     0.0\n",
      "151     0.0     0.0     1.0     0.0     0.0     0.0     0.0\n",
      "142     0.0     1.0     0.0     0.0     0.0     0.0     0.0\n",
      "105     0.0     1.0     0.0     0.0     0.0     0.0     0.0\n",
      "94      0.0     1.0     0.0     0.0     0.0     0.0     0.0\n",
      "210     0.0     0.0     0.0     0.0     0.0     0.0     1.0\n",
      "42      1.0     0.0     0.0     0.0     0.0     0.0     0.0\n",
      "43      1.0     0.0     0.0     0.0     0.0     0.0     0.0\n",
      "141     0.0     1.0     0.0     0.0     0.0     0.0     0.0\n",
      "139     0.0     1.0     0.0     0.0     0.0     0.0     0.0\n",
      "172     0.0     0.0     0.0     0.0     1.0     0.0     0.0\n",
      "40      1.0     0.0     0.0     0.0     0.0     0.0     0.0\n",
      "61      1.0     0.0     0.0     0.0     0.0     0.0     0.0\n",
      "174     0.0     0.0     0.0     0.0     1.0     0.0     0.0\n",
      "145     0.0     1.0     0.0     0.0     0.0     0.0     0.0\n",
      "154     0.0     0.0     1.0     0.0     0.0     0.0     0.0\n",
      "96      0.0     1.0     0.0     0.0     0.0     0.0     0.0\n",
      "78      0.0     1.0     0.0     0.0     0.0     0.0     0.0\n",
      "135     0.0     1.0     0.0     0.0     0.0     0.0     0.0\n",
      "175     0.0     0.0     0.0     0.0     1.0     0.0     0.0\n"
     ]
    }
   ],
   "source": [
    "classes_pred = model.predict(xTest_std)\n",
    "\n",
    "print(\"Classes_prediction_>\\n\",classes_pred[50:100,:])\n",
    "\n",
    "print(\"Classes test results_>\\n\",yTest[50:100])"
   ]
  },
  {
   "cell_type": "code",
   "execution_count": 7,
   "metadata": {},
   "outputs": [
    {
     "data": {
      "image/png": "[encoded data removed]",
      "text/plain": [
       "<Figure size 432x288 with 1 Axes>"
      ]
     },
     "metadata": {
      "needs_background": "light"
     },
     "output_type": "display_data"
    },
    {
     "name": "stdout",
     "output_type": "stream",
     "text": [
      "yTest.values>\n",
      " [[0. 0. 0. ... 0. 0. 1.]\n",
      " [0. 1. 0. ... 0. 0. 0.]\n",
      " [1. 0. 0. ... 0. 0. 0.]\n",
      " ...\n",
      " [0. 1. 0. ... 0. 0. 0.]\n",
      " [0. 0. 1. ... 0. 0. 0.]\n",
      " [1. 0. 0. ... 0. 0. 0.]]\n",
      "yTest>\n",
      "      Class1  Class2  Class3  Class4  Class5  Class6  Class7\n",
      "208     0.0     0.0     0.0     0.0     0.0     0.0     1.0\n",
      "128     0.0     1.0     0.0     0.0     0.0     0.0     0.0\n",
      "67      1.0     0.0     0.0     0.0     0.0     0.0     0.0\n",
      "74      0.0     1.0     0.0     0.0     0.0     0.0     0.0\n",
      "85      0.0     1.0     0.0     0.0     0.0     0.0     0.0\n",
      "..      ...     ...     ...     ...     ...     ...     ...\n",
      "97      0.0     1.0     0.0     0.0     0.0     0.0     0.0\n",
      "5       1.0     0.0     0.0     0.0     0.0     0.0     0.0\n",
      "83      0.0     1.0     0.0     0.0     0.0     0.0     0.0\n",
      "149     0.0     0.0     1.0     0.0     0.0     0.0     0.0\n",
      "49      1.0     0.0     0.0     0.0     0.0     0.0     0.0\n",
      "\n",
      "[150 rows x 7 columns]\n",
      "outputsFinalPred.values>\n",
      " [[1 0 0 ... 0 0 0]\n",
      " [1 0 0 ... 0 0 0]\n",
      " [1 0 0 ... 0 0 0]\n",
      " ...\n",
      " [1 0 0 ... 0 0 0]\n",
      " [1 0 0 ... 0 0 0]\n",
      " [1 0 0 ... 0 0 0]]\n",
      "Confusion matrix_>\n",
      " [[47  0  0  0  0  0]\n",
      " [58  0  0  0  0  0]\n",
      " [10  0  0  0  0  0]\n",
      " [ 9  0  0  0  0  0]\n",
      " [ 5  0  0  0  0  0]\n",
      " [21  0  0  0  0  0]]\n",
      "Correct predictions are 0_>\n",
      "\n"
     ]
    },
    {
     "data": {
      "text/plain": [
       "<AxesSubplot:>"
      ]
     },
     "execution_count": 7,
     "metadata": {},
     "output_type": "execute_result"
    },
    {
     "data": {
      "image/png": "[encoded data removed]",
      "text/plain": [
       "<Figure size 432x288 with 1 Axes>"
      ]
     },
     "metadata": {
      "needs_background": "light"
     },
     "output_type": "display_data"
    }
   ],
   "source": [
    "# Plot training & validation accuracy values\n",
    "plt.plot(history.history['loss'])\n",
    "plt.plot(history.history['val_loss'])\n",
    "plt.title('Training history')\n",
    "plt.ylabel('Performance index')\n",
    "plt.xlabel('Epoch')\n",
    "plt.legend(['MSE (train)', 'MSE (valid)'], loc='upper right')\n",
    "plt.grid()\n",
    "plt.show()\n",
    "\n",
    "# Plot target-output relationship (ideal: targets == outputs, straight line)\n",
    "# plt.plot(y2,outputs,'ok')\n",
    "# plt.title('Output scatter plot')\n",
    "# plt.xlabel('targets')\n",
    "# plt.ylabel('outputs')\n",
    "# plt.grid()\n",
    "# plt.show()\n",
    "\n",
    "# print(glassDatabase)\n",
    "# matrix_confusion = confusion_matrix(yTest, outputsFinalPred)\n",
    "print(\"yTest.values>\\n\",yTest.values)\n",
    "print(\"yTest>\\n\",yTest)\n",
    "print(\"outputsFinalPred.values>\\n\",outputsFinalPred.values)\n",
    "matrix_confusion = confusion_matrix(\n",
    "    yTest.values.argmax(axis=1), outputsFinalPred.values.argmax(axis=1))\n",
    "print(\"Confusion matrix_>\\n\",matrix_confusion)\n",
    "print(\"Correct predictions are 0_>\\n\")\n",
    "sns.heatmap(matrix_confusion, square=True, annot=True, cmap='Blues', fmt='d', cbar=False)\n",
    "# df_confusion = pd.crosstab(yTest, outputsFinalPred, rownames=['Actual'], colnames=['Predicted'], margins=True)\n"
   ]
  }
 ],
 "metadata": {
  "interpreter": {
   "hash": "89e6a0942290a5e118dd98695202646455a29e2a3929f3235c09b356a2df320e"
  },
  "kernelspec": {
   "display_name": "projectname",
   "language": "python",
   "name": "projectname"
  },
  "language_info": {
   "codemirror_mode": {
    "name": "ipython",
    "version": 3
   },
   "file_extension": ".py",
   "mimetype": "text/x-python",
   "name": "python",
   "nbconvert_exporter": "python",
   "pygments_lexer": "ipython3",
   "version": "3.9.7"
  },
  "orig_nbformat": 4
 },
 "nbformat": 4,
 "nbformat_minor": 2
}
